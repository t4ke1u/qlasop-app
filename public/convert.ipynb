{
 "cells": [
  {
   "cell_type": "code",
   "execution_count": 2,
   "metadata": {},
   "outputs": [],
   "source": [
    "import csv\n",
    "import json"
   ]
  },
  {
   "cell_type": "code",
   "execution_count": 3,
   "metadata": {},
   "outputs": [],
   "source": [
    "data_array = []\n",
    "\n",
    "with open('class_data.csv') as fr:\n",
    "    _ = next(csv.reader(fr))\n",
    "    reader = csv.reader(fr)\n",
    "    for row in reader:\n",
    "        data = {}\n",
    "        data['subjectKey'] = row[1]\n",
    "        data['classCode'] = row[3]\n",
    "        data['linkKey'] = row[2]\n",
    "        data['union'] = int(row[4])\n",
    "        data['subjectNameJp'] = row[5]\n",
    "        data['subjectNameEn'] = row[6]\n",
    "        data['classNameJp'] = row[7]\n",
    "        data['classNameEn'] = row[8]\n",
    "        data['status'] = int(row[11])\n",
    "        data['year'] = int(row[0])\n",
    "        data['term'] = int(row[13])\n",
    "        data['day'] = 9 if row[15] == '9' else int(row[15]) - 1\n",
    "        data['startPeriod'] = 8 if row[17][0] == '8' else 9 if row[17][0] == '9' else int(row[17][0]) - 1\n",
    "        data['endPeriod'] = 8 if row[17][0] == '8' else 9 if row[17][0] == '9' else int(row[17][0]) - 1\n",
    "        data['faculty'] = int(row[19])\n",
    "        data['attribute'] = row[20]\n",
    "        data['unit'] = int(row[21])\n",
    "        data['category'] = int(row[22])\n",
    "        if row[24] != \"\":\n",
    "            data['campus'] = int(row[24])\n",
    "        data['grade'] = int(row[26][0])\n",
    "        data['type'] = row[27]\n",
    "        data['teachers'] = ''\n",
    "        data_array.append(data)"
   ]
  },
  {
   "cell_type": "code",
   "execution_count": 4,
   "metadata": {},
   "outputs": [
    {
     "name": "stdout",
     "output_type": "stream",
     "text": [
      "['A群：複合領域', 'C群：基幹理工学部共通科目', 'A群：外国語-英語', 'A群：外国語-初修外国語', 'B群：数学', 'B群：自然科学', 'B群：実験・実習・製作', 'B群：情報関連科目', 'D群：自主挑戦科目', '数学科（専門科目）', '応用数理学科（専門科目）', '情報理工学科（専門科目）', '機械科学・航空宇宙学科（専門科目）', '電子物理システム学科（専門科目）', '表現工学科（専門科目）', '情報通信学科（専門科目）', 'A群：複合領域（IPSE）', 'A群：外国語-英語（IPSE）', 'B群：数学（IPSE）', 'B群：自然科学（IPSE）', 'B群：実験・実習・製作（IPSE）', 'B群：情報関連科目（IPSE）', '', '基幹理工学部共通科目', 'A群：外国語-英語（EBSE）', 'A群：外国語-初修外国語（EBSE）', 'B群：数学（EBSE）', 'B群：自然科学（EBSE）', 'B群：実験・実習・製作（EBSE）', 'B群：情報関連科目（EBSE）', 'A群：複合領域（EBSE）', 'Major in Mathematical Sciences', 'Major in Computer Science and Communications Engineering']\n",
      "['A群：複合領域', 'C群：創造理工学部共通科目', 'A群：外国語-英語', 'A群：外国語-初修外国語', 'B群：数学', 'B群：自然科学', 'B群：実験・実習・製作', 'B群：情報関連科目', 'D群：自主挑戦科目', '建築学科（専門科目）', '総合機械工学科（専門科目）', '経営システム工学科（専門科目）', '社会環境工学科（専門科目）', '環境資源工学科（専門科目）', 'A群：複合領域（IPSE）', 'A群：外国語-英語（IPSE）', 'B群：数学（IPSE）', 'B群：自然科学（IPSE）', 'B群：実験・実習・製作（IPSE）', 'B群：情報関連科目（IPSE）', '', '創造理工学部共通科目', 'A群：外国語-英語（EBSE）', 'A群：外国語-初修外国語（EBSE）', 'B群：数学（EBSE）', 'B群：自然科学（EBSE）', 'B群：実験・実習・製作（EBSE）', 'B群：情報関連科目（EBSE）', 'A群：複合領域（EBSE）', 'Major in Mechanical Engineering', 'Major in Civil and Environmental Engineering']\n",
      "['A群：複合領域', 'A群：外国語-英語', 'A群：外国語-初修外国語', 'B群：数学', 'B群：自然科学', 'B群：実験・実習・製作', 'B群：情報関連科目', 'D群：自主挑戦科目', '物理学科（専門科目）', '応用物理学科（専門科目）', '化学・生命化学科（専門科目）', '応用化学科（専門科目）', '生命医科学科（専門科目）', '電気・情報生命工学科（専門科目）', 'A群：複合領域（IPSE）', 'A群：外国語-英語（IPSE）', 'B群：数学（IPSE）', 'B群：自然科学（IPSE）', 'B群：実験・実習・製作（IPSE）', 'B群：情報関連科目（IPSE）', '', '先進理工学部共通科目', 'A群：外国語-英語（EBSE）', 'A群：外国語-初修外国語（EBSE）', 'B群：数学（EBSE）', 'B群：自然科学（EBSE）', 'B群：実験・実習・製作（EBSE）', 'B群：情報関連科目（EBSE）', 'A群：複合領域（EBSE）', 'Major in Physics', 'Major in Chemistry', 'Major in Bioscience']\n"
     ]
    }
   ],
   "source": [
    "attributes = {26: [], 27: [], 28: []}\n",
    "for data in data_array:\n",
    "    if not(data['attribute'] in attributes[data['faculty']]):\n",
    "        attributes[data['faculty']].append(data['attribute'])\n",
    "\n",
    "for attribute in attributes.values():\n",
    "  print(attribute)"
   ]
  },
  {
   "cell_type": "code",
   "execution_count": 5,
   "metadata": {},
   "outputs": [],
   "source": [
    "with open('class_data.json', 'wt') as fw:\n",
    "    json.dump(data_array, fw, indent=2, ensure_ascii=False)"
   ]
  }
 ],
 "metadata": {
  "kernelspec": {
   "display_name": "Python 3",
   "language": "python",
   "name": "python3"
  },
  "language_info": {
   "codemirror_mode": {
    "name": "ipython",
    "version": 3
   },
   "file_extension": ".py",
   "mimetype": "text/x-python",
   "name": "python",
   "nbconvert_exporter": "python",
   "pygments_lexer": "ipython3",
   "version": "3.10.6"
  },
  "orig_nbformat": 4
 },
 "nbformat": 4,
 "nbformat_minor": 2
}
