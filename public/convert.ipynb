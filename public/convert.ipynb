{
 "cells": [
  {
   "cell_type": "code",
   "execution_count": 7,
   "metadata": {},
   "outputs": [],
   "source": [
    "import csv\n",
    "import json\n",
    "\n",
    "data_array = []\n",
    "\n",
    "with open('class_data.csv') as fr:\n",
    "    _ = next(csv.reader(fr))\n",
    "    reader = csv.reader(fr)\n",
    "    for row in reader:\n",
    "        data = {}\n",
    "        data['subjectKey'] = row[1]\n",
    "        data['classCode'] = row[3]\n",
    "        data['linkKey'] = row[2]\n",
    "        data['union'] = int(row[4])\n",
    "        data['subjectNameJp'] = row[5]\n",
    "        data['subjectNameEn'] = row[6]\n",
    "        data['classNameJp'] = row[7]\n",
    "        data['classNameEn'] = row[8]\n",
    "        data['status'] = int(row[11])\n",
    "        data['year'] = int(row[0])\n",
    "        data['term'] = int(row[13])\n",
    "        data['day'] = int(row[15])\n",
    "        data['startPeriod'] = int(row[17][0])\n",
    "        data['endPeriod'] = int(row[17][1])\n",
    "        data['faculty'] = int(row[19])\n",
    "        data['attribute'] = row[20]\n",
    "        data['unit'] = int(row[21])\n",
    "        data['category'] = int(row[22])\n",
    "        data['campus'] = row[24]\n",
    "        data['grade'] = int(row[26][0])\n",
    "        data['type'] = row[27]\n",
    "        data['teachers'] = ''\n",
    "        data_array.append(data)\n",
    "\n",
    "with open('class_data.json', 'wt') as fw:\n",
    "    json.dump(data_array, fw, indent=2, ensure_ascii=False)\n",
    "\n",
    "        "
   ]
  }
 ],
 "metadata": {
  "kernelspec": {
   "display_name": "Python 3",
   "language": "python",
   "name": "python3"
  },
  "language_info": {
   "codemirror_mode": {
    "name": "ipython",
    "version": 3
   },
   "file_extension": ".py",
   "mimetype": "text/x-python",
   "name": "python",
   "nbconvert_exporter": "python",
   "pygments_lexer": "ipython3",
   "version": "3.10.6"
  },
  "orig_nbformat": 4
 },
 "nbformat": 4,
 "nbformat_minor": 2
}
